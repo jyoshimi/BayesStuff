{
 "cells": [
  {
   "cell_type": "markdown",
   "metadata": {},
   "source": [
    "### Exploration  of Bayesian Update using Coin Flip Example"
   ]
  },
  {
   "cell_type": "code",
   "execution_count": 284,
   "metadata": {
    "collapsed": false
   },
   "outputs": [],
   "source": [
    "%matplotlib inline\n",
    "import numpy as np\n",
    "from matplotlib import pyplot as plt\n",
    "import scipy.stats as stats"
   ]
  },
  {
   "cell_type": "code",
   "execution_count": 285,
   "metadata": {
    "collapsed": false
   },
   "outputs": [],
   "source": [
    "# Hypothesis space: possible biases on the coin\n",
    "biases = np.linspace(0,1,100)\n",
    "# Actual bias on coin. .5 is fair.   .8 is 80% heads, etc.\n",
    "true_bias = 0.5"
   ]
  },
  {
   "cell_type": "code",
   "execution_count": 286,
   "metadata": {
    "collapsed": false
   },
   "outputs": [],
   "source": [
    "# Uncomment one of these lines to select a prior\n",
    "\n",
    "# prior = 2 - stats.norm.pdf(biases,true_bias,.2) # \"Upside down\" gaussian\n",
    "# prior = stats.norm.pdf(biases,.5,.2) # Gaussian\n",
    "prior = stats.uniform.pdf(biases) # Uniform"
   ]
  },
  {
   "cell_type": "code",
   "execution_count": 287,
   "metadata": {
    "collapsed": false
   },
   "outputs": [
    {
     "data": {
      "image/png": "[encoded data removed]",
      "text/plain": [
       "<matplotlib.figure.Figure at 0x10fa33048>"
      ]
     },
     "metadata": {},
     "output_type": "display_data"
    }
   ],
   "source": [
    "num_iterations = 5 # Iterations of Bayesian update\n",
    "n_flips = 40 # Number of coin flips at each iteration\n",
    "\n",
    "fig = plt.gcf()\n",
    "fig.set_size_inches(12,4)\n",
    "\n",
    "# Do num_iterations of Bayesian update\n",
    "for i in range(num_iterations):\n",
    "    \n",
    "    # Flip the coin n_flips times.\n",
    "    flips = stats.bernoulli.rvs(true_bias, size=n_flips)\n",
    "    num_heads = flips.sum()\n",
    "    \n",
    "    # Compute the likelihood\n",
    "    likelihood = stats.binom.pmf(num_heads, n_flips, biases)\n",
    "    \n",
    "    # Bayes!\n",
    "    posterior = (prior*likelihood)/np.trapz(prior*likelihood,biases)\n",
    "    \n",
    "    # Plot\n",
    "    plt.subplot(1, num_iterations, i+1)\n",
    "    if i == 0:\n",
    "        plt.plot(biases,prior,'g')\n",
    "    plt.plot(biases,posterior)\n",
    "    ymin,ymax = plt.ylim()\n",
    "    plt.plot(np.multiply(true_bias,[1,1]),[ymin,ymax],'r')\n",
    "\n",
    "    # Set the prior for the next iteration to be the curent posterior\n",
    "    prior = posterior \n"
   ]
  },
  {
   "cell_type": "code",
   "execution_count": null,
   "metadata": {
    "collapsed": true
   },
   "outputs": [],
   "source": []
  }
 ],
 "metadata": {
  "kernelspec": {
   "display_name": "Python 3",
   "language": "python",
   "name": "python3"
  },
  "language_info": {
   "codemirror_mode": {
    "name": "ipython",
    "version": 3
   },
   "file_extension": ".py",
   "mimetype": "text/x-python",
   "name": "python",
   "nbconvert_exporter": "python",
   "pygments_lexer": "ipython3",
   "version": "3.5.3"
  }
 },
 "nbformat": 4,
 "nbformat_minor": 0
}
